{
 "cells": [
  {
   "cell_type": "markdown",
   "id": "4369049c",
   "metadata": {},
   "source": [
    "## Import Libraries"
   ]
  },
  {
   "cell_type": "code",
   "execution_count": 1,
   "id": "645380aa",
   "metadata": {},
   "outputs": [],
   "source": [
    "import numpy as np\n",
    "import pandas as pd\n",
    "import matplotlib.pyplot as plt\n",
    "import seaborn as sns\n",
    "%matplotlib inline"
   ]
  },
  {
   "cell_type": "code",
   "execution_count": 2,
   "id": "06e1763a",
   "metadata": {},
   "outputs": [],
   "source": [
    "#import numpy.random as rnd\n",
    "#rnd.seed(42)"
   ]
  },
  {
   "cell_type": "code",
   "execution_count": 3,
   "id": "28bf11da",
   "metadata": {},
   "outputs": [],
   "source": [
    "from sklearn.pipeline import Pipeline, FeatureUnion\n",
    "from sklearn.impute import SimpleImputer\n",
    "from sklearn.preprocessing import StandardScaler\n",
    "from sklearn.base import BaseEstimator,TransformerMixin,RegressorMixin"
   ]
  },
  {
   "cell_type": "markdown",
   "id": "115ea187",
   "metadata": {},
   "source": [
    "## Classes"
   ]
  },
  {
   "cell_type": "markdown",
   "id": "7e11ef61",
   "metadata": {},
   "source": [
    "### Feature Adder"
   ]
  },
  {
   "cell_type": "code",
   "execution_count": 4,
   "id": "af6ef855",
   "metadata": {
    "scrolled": true
   },
   "outputs": [],
   "source": [
    "class FeaturesAdder(BaseEstimator,TransformerMixin):\n",
    "    \"\"\"This class adds new features in the dataset.\n",
    "        Features added are : rooms_per_household, bedrooms_per_room, and population_per_household.\n",
    "    \"\"\"\n",
    "    def fit(self,X,y=None):\n",
    "        return self\n",
    "    def transform(self,X,y=None):\n",
    "        X['rooms_per_household']=X['total_rooms']/X['households']\n",
    "        X['bedrooms_per_room']=X['total_bedrooms']/X['total_rooms']\n",
    "        X['population_per_household']=X['population']/X['households']\n",
    "        return X"
   ]
  },
  {
   "cell_type": "markdown",
   "id": "cbe2ba94",
   "metadata": {},
   "source": [
    "### Removing Outliers"
   ]
  },
  {
   "cell_type": "code",
   "execution_count": 5,
   "id": "93e937ed",
   "metadata": {
    "scrolled": true
   },
   "outputs": [],
   "source": [
    "class RemoveOutliers(BaseEstimator,TransformerMixin):\n",
    "    \"\"\"This class removes outliers from data.\n",
    "    Note: Outlier values are hard coded\n",
    "    \"\"\"\n",
    "    def fit (self,X,y=None):\n",
    "        return self\n",
    "    \n",
    "    def transform(self,X,y=None):\n",
    "        X=X[(X['median_house_value']!=500001) | (X['median_income']>=2)].reset_index(drop=True)\n",
    "        X=X[X['median_income']<=11].reset_index(drop=True)\n",
    "        X=X[(X['median_house_value']!=350000) | (X['median_income']>=1.5)].reset_index(drop=True)\n",
    "        X=X[(X['median_house_value']!=450000) | (X['median_income']>=2)].reset_index(drop=True)\n",
    "        X=X[(X['median_house_value']>=350000) | (X['median_income']<=9.5)].reset_index(drop=True)\n",
    "        X=X[X['population']<=9000]\n",
    "        X=X[(X['population_per_household']>=1.15) & (X['population_per_household']<=6.5)]\n",
    "        X=X[X['rooms_per_household']<20]\n",
    "        X=X[X['bedrooms_per_room']<0.5].reset_index(drop=True)\n",
    "        return X"
   ]
  },
  {
   "cell_type": "markdown",
   "id": "207cf018",
   "metadata": {},
   "source": [
    "### Features transformer"
   ]
  },
  {
   "cell_type": "code",
   "execution_count": 6,
   "id": "2a27769e",
   "metadata": {},
   "outputs": [],
   "source": [
    "class FeaturesTransformer(BaseEstimator,TransformerMixin):\n",
    "    \"\"\"This class trnsforms numberical featuress in the dataset.\n",
    "    Note: Transformations are hard coded.\n",
    "    \"\"\"\n",
    "    def fit(self,X,y=None):\n",
    "        return self\n",
    "    def transform(self,X,y=None):\n",
    "        import numpy as np\n",
    "        from scipy.special import boxcox1p        \n",
    "        X['total_rooms']=X['total_rooms'].apply(lambda x: boxcox1p(x,0.25))\n",
    "        X['total_bedrooms']=X['total_bedrooms'].apply(lambda x: boxcox1p(x,0.25))\n",
    "        X['households']=X['households'].apply(lambda x: boxcox1p(x,0.2))\n",
    "        X['population']=X['population'].apply(lambda x: boxcox1p(x,0.3))\n",
    "        X['rooms_per_household']=X['rooms_per_household'].apply(lambda x: np.log1p(x)**0.5)\n",
    "        X['bedrooms_per_room']=X['bedrooms_per_room'].apply(lambda x: np.log1p(x)**0.25)\n",
    "        X['median_income']=X['median_income'].apply(lambda x: np.log1p(x)**1.25)\n",
    "        X['population_per_household']=X['population_per_household'].apply(lambda x: np.log1p(x)**1)\n",
    "        return X"
   ]
  },
  {
   "cell_type": "markdown",
   "id": "874b8dd8",
   "metadata": {},
   "source": [
    "### DataFrame Selector"
   ]
  },
  {
   "cell_type": "code",
   "execution_count": 8,
   "id": "ca195dd6",
   "metadata": {
    "scrolled": true
   },
   "outputs": [],
   "source": [
    "class DataFrameSelector(BaseEstimator,TransformerMixin):\n",
    "    \"\"\"This class is a dataframe selector.\n",
    "        Data members:\n",
    "            features: A list of column_names you want in output dataframe\n",
    "    \"\"\"\n",
    "    def __init__(self,features):\n",
    "        self.features=features\n",
    "    def fit(self,X,y=None):\n",
    "        return self\n",
    "    def transform(self,X,y=None):\n",
    "        return X[self.features]"
   ]
  },
  {
   "cell_type": "markdown",
   "id": "aab4602e",
   "metadata": {},
   "source": [
    "### Get Dummies"
   ]
  },
  {
   "cell_type": "code",
   "execution_count": 9,
   "id": "a5ac742a",
   "metadata": {},
   "outputs": [],
   "source": [
    "class GetDummies(BaseEstimator,TransformerMixin):\n",
    "    \"\"\"This class is used to get dummy columns from categorical columns.\"\"\"\n",
    "    def fit (self,X,y=None):\n",
    "        return self\n",
    "    def transform(self,X,y=None):\n",
    "        #change ISLAND to NEAR BAY...as count of ISLAND is very low\n",
    "        X[X=='ISLAND']='NEAR BAY'\n",
    "        return (pd.get_dummies(X,drop_first=True))"
   ]
  },
  {
   "cell_type": "markdown",
   "id": "fb6389a1",
   "metadata": {},
   "source": [
    "### Removing Values"
   ]
  },
  {
   "cell_type": "code",
   "execution_count": 10,
   "id": "a5b77494",
   "metadata": {},
   "outputs": [],
   "source": [
    "def remove_by_pvalue(X,y,pvalue=0.05):\n",
    "    \"\"\"Remove features with p-value more than 'pvalue'\n",
    "    \n",
    "    This function uses statsmodels.api.OLS model. Please add intercept to data externally.\n",
    "    Input:\n",
    "        X: Array or dataframe excluding predicted variable\n",
    "        y: Series or list of predicted variable\n",
    "        pvalue: int or float\n",
    "    \n",
    "    Note:\n",
    "        X is changed inplace\n",
    "    \"\"\"\n",
    "    import statsmodels.api as sm\n",
    "    for i in range(len(X.columns)):\n",
    "        regressor_OLS=sm.OLS(endog=y,exog=X).fit()\n",
    "        s=regressor_OLS.pvalues.sort_values(ascending=False)\n",
    "        if s.iloc[0]>pvalue:\n",
    "            X.drop(s.index[0],axis=1,inplace=True)\n",
    "            print('Removed: ',s.index[0],'P-value: ',s.iloc[0])\n",
    "        \n",
    "def remove_by_vif(X,vif=5):\n",
    "    \"\"\"Remove columns from X whose VIF is greater than supplied 'vif'\n",
    "    Parameters:\n",
    "        X:array or dataframe containing data excluding target variable\n",
    "        vif: int or float of limiting value of VIF\n",
    "    Note:\n",
    "        This function changes X inplace\n",
    "    \"\"\"\n",
    "    import statsmodels.api as sm\n",
    "    from statsmodels.stats.outliers_influence import variance_inflation_factor\n",
    "        \n",
    "    for i in range(len(X.columns)):\n",
    "        l = [variance_inflation_factor(X.values, i) for i in range(X.shape[1])]\n",
    "        s=pd.Series(index=X.columns,data=l).sort_values(ascending=False)\n",
    "        if s.iloc[0]>vif:\n",
    "            X.drop(s.index[0],axis=1,inplace=True)\n",
    "            print('Removed: ',s.index[0],', VIF: ',s.iloc[0])\n",
    "        else:\n",
    "            break"
   ]
  },
  {
   "cell_type": "markdown",
   "id": "86b6ca65",
   "metadata": {},
   "source": [
    "## Preparing Data"
   ]
  },
  {
   "cell_type": "markdown",
   "id": "3faf42dc",
   "metadata": {},
   "source": [
    "### Import Data from CSV"
   ]
  },
  {
   "cell_type": "code",
   "execution_count": 11,
   "id": "caaace5c",
   "metadata": {},
   "outputs": [
    {
     "data": {
      "text/html": [
       "<div>\n",
       "<style scoped>\n",
       "    .dataframe tbody tr th:only-of-type {\n",
       "        vertical-align: middle;\n",
       "    }\n",
       "\n",
       "    .dataframe tbody tr th {\n",
       "        vertical-align: top;\n",
       "    }\n",
       "\n",
       "    .dataframe thead th {\n",
       "        text-align: right;\n",
       "    }\n",
       "</style>\n",
       "<table border=\"1\" class=\"dataframe\">\n",
       "  <thead>\n",
       "    <tr style=\"text-align: right;\">\n",
       "      <th></th>\n",
       "      <th>longitude</th>\n",
       "      <th>latitude</th>\n",
       "      <th>housing_median_age</th>\n",
       "      <th>total_rooms</th>\n",
       "      <th>total_bedrooms</th>\n",
       "      <th>population</th>\n",
       "      <th>households</th>\n",
       "      <th>median_income</th>\n",
       "      <th>median_house_value</th>\n",
       "    </tr>\n",
       "  </thead>\n",
       "  <tbody>\n",
       "    <tr>\n",
       "      <th>count</th>\n",
       "      <td>18565.000000</td>\n",
       "      <td>18565.000000</td>\n",
       "      <td>18565.000000</td>\n",
       "      <td>18565.000000</td>\n",
       "      <td>18376.000000</td>\n",
       "      <td>18565.000000</td>\n",
       "      <td>18565.000000</td>\n",
       "      <td>18565.000000</td>\n",
       "      <td>18565.000000</td>\n",
       "    </tr>\n",
       "    <tr>\n",
       "      <th>mean</th>\n",
       "      <td>-119.570116</td>\n",
       "      <td>35.633888</td>\n",
       "      <td>28.615890</td>\n",
       "      <td>2634.033827</td>\n",
       "      <td>537.711199</td>\n",
       "      <td>1426.223108</td>\n",
       "      <td>499.450902</td>\n",
       "      <td>3.867012</td>\n",
       "      <td>206617.794991</td>\n",
       "    </tr>\n",
       "    <tr>\n",
       "      <th>std</th>\n",
       "      <td>2.002922</td>\n",
       "      <td>2.137014</td>\n",
       "      <td>12.564224</td>\n",
       "      <td>2195.915548</td>\n",
       "      <td>424.125849</td>\n",
       "      <td>1142.570832</td>\n",
       "      <td>384.553175</td>\n",
       "      <td>1.895988</td>\n",
       "      <td>115447.104881</td>\n",
       "    </tr>\n",
       "    <tr>\n",
       "      <th>min</th>\n",
       "      <td>-124.350000</td>\n",
       "      <td>32.540000</td>\n",
       "      <td>1.000000</td>\n",
       "      <td>2.000000</td>\n",
       "      <td>2.000000</td>\n",
       "      <td>3.000000</td>\n",
       "      <td>2.000000</td>\n",
       "      <td>0.499900</td>\n",
       "      <td>14999.000000</td>\n",
       "    </tr>\n",
       "    <tr>\n",
       "      <th>25%</th>\n",
       "      <td>-121.800000</td>\n",
       "      <td>33.930000</td>\n",
       "      <td>18.000000</td>\n",
       "      <td>1442.000000</td>\n",
       "      <td>295.000000</td>\n",
       "      <td>786.000000</td>\n",
       "      <td>279.000000</td>\n",
       "      <td>2.561200</td>\n",
       "      <td>119300.000000</td>\n",
       "    </tr>\n",
       "    <tr>\n",
       "      <th>50%</th>\n",
       "      <td>-118.500000</td>\n",
       "      <td>34.260000</td>\n",
       "      <td>29.000000</td>\n",
       "      <td>2123.000000</td>\n",
       "      <td>434.000000</td>\n",
       "      <td>1166.000000</td>\n",
       "      <td>408.000000</td>\n",
       "      <td>3.534100</td>\n",
       "      <td>179400.000000</td>\n",
       "    </tr>\n",
       "    <tr>\n",
       "      <th>75%</th>\n",
       "      <td>-118.010000</td>\n",
       "      <td>37.710000</td>\n",
       "      <td>37.000000</td>\n",
       "      <td>3141.000000</td>\n",
       "      <td>646.000000</td>\n",
       "      <td>1725.000000</td>\n",
       "      <td>603.000000</td>\n",
       "      <td>4.741100</td>\n",
       "      <td>264400.000000</td>\n",
       "    </tr>\n",
       "    <tr>\n",
       "      <th>max</th>\n",
       "      <td>-114.310000</td>\n",
       "      <td>41.950000</td>\n",
       "      <td>52.000000</td>\n",
       "      <td>39320.000000</td>\n",
       "      <td>6445.000000</td>\n",
       "      <td>35682.000000</td>\n",
       "      <td>6082.000000</td>\n",
       "      <td>15.000100</td>\n",
       "      <td>500001.000000</td>\n",
       "    </tr>\n",
       "  </tbody>\n",
       "</table>\n",
       "</div>"
      ],
      "text/plain": [
       "          longitude      latitude  housing_median_age   total_rooms  \\\n",
       "count  18565.000000  18565.000000        18565.000000  18565.000000   \n",
       "mean    -119.570116     35.633888           28.615890   2634.033827   \n",
       "std        2.002922      2.137014           12.564224   2195.915548   \n",
       "min     -124.350000     32.540000            1.000000      2.000000   \n",
       "25%     -121.800000     33.930000           18.000000   1442.000000   \n",
       "50%     -118.500000     34.260000           29.000000   2123.000000   \n",
       "75%     -118.010000     37.710000           37.000000   3141.000000   \n",
       "max     -114.310000     41.950000           52.000000  39320.000000   \n",
       "\n",
       "       total_bedrooms    population    households  median_income  \\\n",
       "count    18376.000000  18565.000000  18565.000000   18565.000000   \n",
       "mean       537.711199   1426.223108    499.450902       3.867012   \n",
       "std        424.125849   1142.570832    384.553175       1.895988   \n",
       "min          2.000000      3.000000      2.000000       0.499900   \n",
       "25%        295.000000    786.000000    279.000000       2.561200   \n",
       "50%        434.000000   1166.000000    408.000000       3.534100   \n",
       "75%        646.000000   1725.000000    603.000000       4.741100   \n",
       "max       6445.000000  35682.000000   6082.000000      15.000100   \n",
       "\n",
       "       median_house_value  \n",
       "count        18565.000000  \n",
       "mean        206617.794991  \n",
       "std         115447.104881  \n",
       "min          14999.000000  \n",
       "25%         119300.000000  \n",
       "50%         179400.000000  \n",
       "75%         264400.000000  \n",
       "max         500001.000000  "
      ]
     },
     "execution_count": 11,
     "metadata": {},
     "output_type": "execute_result"
    }
   ],
   "source": [
    "housing_data = pd.read_csv('C:/Users/kalam/OneDrive - Adobe/Personal/Data Sceince/dataset for students.csv')\n",
    "housing_data.describe()"
   ]
  },
  {
   "cell_type": "markdown",
   "id": "a961f49d",
   "metadata": {},
   "source": [
    "### Data Correlation"
   ]
  },
  {
   "cell_type": "code",
   "execution_count": 12,
   "id": "fa7c6106",
   "metadata": {},
   "outputs": [
    {
     "data": {
      "text/html": [
       "<div>\n",
       "<style scoped>\n",
       "    .dataframe tbody tr th:only-of-type {\n",
       "        vertical-align: middle;\n",
       "    }\n",
       "\n",
       "    .dataframe tbody tr th {\n",
       "        vertical-align: top;\n",
       "    }\n",
       "\n",
       "    .dataframe thead th {\n",
       "        text-align: right;\n",
       "    }\n",
       "</style>\n",
       "<table border=\"1\" class=\"dataframe\">\n",
       "  <thead>\n",
       "    <tr style=\"text-align: right;\">\n",
       "      <th></th>\n",
       "      <th>longitude</th>\n",
       "      <th>latitude</th>\n",
       "      <th>housing_median_age</th>\n",
       "      <th>total_rooms</th>\n",
       "      <th>total_bedrooms</th>\n",
       "      <th>population</th>\n",
       "      <th>households</th>\n",
       "      <th>median_income</th>\n",
       "      <th>median_house_value</th>\n",
       "    </tr>\n",
       "  </thead>\n",
       "  <tbody>\n",
       "    <tr>\n",
       "      <th>longitude</th>\n",
       "      <td>1.000000</td>\n",
       "      <td>-0.924545</td>\n",
       "      <td>-0.107575</td>\n",
       "      <td>0.043183</td>\n",
       "      <td>0.067712</td>\n",
       "      <td>0.097420</td>\n",
       "      <td>0.053778</td>\n",
       "      <td>-0.013332</td>\n",
       "      <td>-0.045035</td>\n",
       "    </tr>\n",
       "    <tr>\n",
       "      <th>latitude</th>\n",
       "      <td>-0.924545</td>\n",
       "      <td>1.000000</td>\n",
       "      <td>0.011147</td>\n",
       "      <td>-0.035373</td>\n",
       "      <td>-0.065896</td>\n",
       "      <td>-0.106982</td>\n",
       "      <td>-0.070205</td>\n",
       "      <td>-0.081693</td>\n",
       "      <td>-0.145263</td>\n",
       "    </tr>\n",
       "    <tr>\n",
       "      <th>housing_median_age</th>\n",
       "      <td>-0.107575</td>\n",
       "      <td>0.011147</td>\n",
       "      <td>1.000000</td>\n",
       "      <td>-0.359676</td>\n",
       "      <td>-0.320041</td>\n",
       "      <td>-0.294054</td>\n",
       "      <td>-0.302620</td>\n",
       "      <td>-0.121457</td>\n",
       "      <td>0.103826</td>\n",
       "    </tr>\n",
       "    <tr>\n",
       "      <th>total_rooms</th>\n",
       "      <td>0.043183</td>\n",
       "      <td>-0.035373</td>\n",
       "      <td>-0.359676</td>\n",
       "      <td>1.000000</td>\n",
       "      <td>0.930809</td>\n",
       "      <td>0.855342</td>\n",
       "      <td>0.918620</td>\n",
       "      <td>0.200269</td>\n",
       "      <td>0.134641</td>\n",
       "    </tr>\n",
       "    <tr>\n",
       "      <th>total_bedrooms</th>\n",
       "      <td>0.067712</td>\n",
       "      <td>-0.065896</td>\n",
       "      <td>-0.320041</td>\n",
       "      <td>0.930809</td>\n",
       "      <td>1.000000</td>\n",
       "      <td>0.876034</td>\n",
       "      <td>0.979671</td>\n",
       "      <td>-0.003778</td>\n",
       "      <td>0.050108</td>\n",
       "    </tr>\n",
       "    <tr>\n",
       "      <th>population</th>\n",
       "      <td>0.097420</td>\n",
       "      <td>-0.106982</td>\n",
       "      <td>-0.294054</td>\n",
       "      <td>0.855342</td>\n",
       "      <td>0.876034</td>\n",
       "      <td>1.000000</td>\n",
       "      <td>0.905547</td>\n",
       "      <td>0.007324</td>\n",
       "      <td>-0.023836</td>\n",
       "    </tr>\n",
       "    <tr>\n",
       "      <th>households</th>\n",
       "      <td>0.053778</td>\n",
       "      <td>-0.070205</td>\n",
       "      <td>-0.302620</td>\n",
       "      <td>0.918620</td>\n",
       "      <td>0.979671</td>\n",
       "      <td>0.905547</td>\n",
       "      <td>1.000000</td>\n",
       "      <td>0.016365</td>\n",
       "      <td>0.066069</td>\n",
       "    </tr>\n",
       "    <tr>\n",
       "      <th>median_income</th>\n",
       "      <td>-0.013332</td>\n",
       "      <td>-0.081693</td>\n",
       "      <td>-0.121457</td>\n",
       "      <td>0.200269</td>\n",
       "      <td>-0.003778</td>\n",
       "      <td>0.007324</td>\n",
       "      <td>0.016365</td>\n",
       "      <td>1.000000</td>\n",
       "      <td>0.688783</td>\n",
       "    </tr>\n",
       "    <tr>\n",
       "      <th>median_house_value</th>\n",
       "      <td>-0.045035</td>\n",
       "      <td>-0.145263</td>\n",
       "      <td>0.103826</td>\n",
       "      <td>0.134641</td>\n",
       "      <td>0.050108</td>\n",
       "      <td>-0.023836</td>\n",
       "      <td>0.066069</td>\n",
       "      <td>0.688783</td>\n",
       "      <td>1.000000</td>\n",
       "    </tr>\n",
       "  </tbody>\n",
       "</table>\n",
       "</div>"
      ],
      "text/plain": [
       "                    longitude  latitude  housing_median_age  total_rooms  \\\n",
       "longitude            1.000000 -0.924545           -0.107575     0.043183   \n",
       "latitude            -0.924545  1.000000            0.011147    -0.035373   \n",
       "housing_median_age  -0.107575  0.011147            1.000000    -0.359676   \n",
       "total_rooms          0.043183 -0.035373           -0.359676     1.000000   \n",
       "total_bedrooms       0.067712 -0.065896           -0.320041     0.930809   \n",
       "population           0.097420 -0.106982           -0.294054     0.855342   \n",
       "households           0.053778 -0.070205           -0.302620     0.918620   \n",
       "median_income       -0.013332 -0.081693           -0.121457     0.200269   \n",
       "median_house_value  -0.045035 -0.145263            0.103826     0.134641   \n",
       "\n",
       "                    total_bedrooms  population  households  median_income  \\\n",
       "longitude                 0.067712    0.097420    0.053778      -0.013332   \n",
       "latitude                 -0.065896   -0.106982   -0.070205      -0.081693   \n",
       "housing_median_age       -0.320041   -0.294054   -0.302620      -0.121457   \n",
       "total_rooms               0.930809    0.855342    0.918620       0.200269   \n",
       "total_bedrooms            1.000000    0.876034    0.979671      -0.003778   \n",
       "population                0.876034    1.000000    0.905547       0.007324   \n",
       "households                0.979671    0.905547    1.000000       0.016365   \n",
       "median_income            -0.003778    0.007324    0.016365       1.000000   \n",
       "median_house_value        0.050108   -0.023836    0.066069       0.688783   \n",
       "\n",
       "                    median_house_value  \n",
       "longitude                    -0.045035  \n",
       "latitude                     -0.145263  \n",
       "housing_median_age            0.103826  \n",
       "total_rooms                   0.134641  \n",
       "total_bedrooms                0.050108  \n",
       "population                   -0.023836  \n",
       "households                    0.066069  \n",
       "median_income                 0.688783  \n",
       "median_house_value            1.000000  "
      ]
     },
     "execution_count": 12,
     "metadata": {},
     "output_type": "execute_result"
    }
   ],
   "source": [
    "housing_data.corr()"
   ]
  },
  {
   "cell_type": "markdown",
   "id": "18d9c43b",
   "metadata": {},
   "source": [
    "### Scatter Graph "
   ]
  },
  {
   "cell_type": "code",
   "execution_count": 13,
   "id": "ed40141a",
   "metadata": {},
   "outputs": [
    {
     "data": {
      "text/plain": [
       "<matplotlib.colorbar.Colorbar at 0x220058c4af0>"
      ]
     },
     "execution_count": 13,
     "metadata": {},
     "output_type": "execute_result"
    },
    {
     "data": {
      "image/png": "[encoded data removed]",
      "text/plain": [
       "<Figure size 864x648 with 2 Axes>"
      ]
     },
     "metadata": {
      "needs_background": "light"
     },
     "output_type": "display_data"
    }
   ],
   "source": [
    "plt.figure(figsize = (12, 9))\n",
    "plt.scatter(housing_data.latitude, housing_data.longitude, alpha = 0.2, c = housing_data.median_house_value, s = housing_data.population/100)\n",
    "plt.colorbar()"
   ]
  },
  {
   "cell_type": "code",
   "execution_count": 14,
   "id": "343c0f25",
   "metadata": {},
   "outputs": [
    {
     "name": "stderr",
     "output_type": "stream",
     "text": [
      "C:\\Users\\kalam\\AppData\\Local\\Temp/ipykernel_42884/3697010208.py:7: SettingWithCopyWarning: \n",
      "A value is trying to be set on a copy of a slice from a DataFrame.\n",
      "Try using .loc[row_indexer,col_indexer] = value instead\n",
      "\n",
      "See the caveats in the documentation: https://pandas.pydata.org/pandas-docs/stable/user_guide/indexing.html#returning-a-view-versus-a-copy\n",
      "  X[X=='ISLAND']='NEAR BAY'\n",
      "C:\\Users\\kalam\\Anaconda3\\lib\\site-packages\\pandas\\core\\frame.py:3718: SettingWithCopyWarning: \n",
      "A value is trying to be set on a copy of a slice from a DataFrame\n",
      "\n",
      "See the caveats in the documentation: https://pandas.pydata.org/pandas-docs/stable/user_guide/indexing.html#returning-a-view-versus-a-copy\n",
      "  self._where(-key, value, inplace=True)\n"
     ]
    },
    {
     "name": "stdout",
     "output_type": "stream",
     "text": [
      "Removed:  total_bedrooms , VIF:  525.7709324444197\n",
      "Removed:  households , VIF:  227.54268512427845\n",
      "Removed:  total_rooms , VIF:  105.42143924591775\n",
      "Removed:  latitude , VIF:  18.108383417056906\n",
      "Removed:  bedrooms_per_room , VIF:  5.548320339249713\n"
     ]
    }
   ],
   "source": [
    "#Adding features\n",
    "housing_data=FeaturesAdder().fit_transform(housing_data)\n",
    "\n",
    "num_features=['longitude', 'latitude', 'housing_median_age', 'total_rooms',\n",
    "       'total_bedrooms', 'population', 'households', 'median_income',\n",
    "       'median_house_value', 'rooms_per_household',\n",
    "       'bedrooms_per_room', 'population_per_household']\n",
    "\n",
    "#Removing outliers\n",
    "housing_data=RemoveOutliers().fit_transform(housing_data)\n",
    "\n",
    "data_labels=housing_data['median_house_value']\n",
    "housing_data=housing_data.drop('median_house_value',axis=1)\n",
    "\n",
    "#Transforming features\n",
    "housing_data=FeaturesTransformer().fit_transform(housing_data)\n",
    "\n",
    "num_features=['longitude', 'latitude', 'housing_median_age', 'total_rooms',\n",
    "       'total_bedrooms', 'population', 'households', 'median_income',\n",
    "       'rooms_per_household','bedrooms_per_room', 'population_per_household']\n",
    "cat_featues=['ocean_proximity']\n",
    "\n",
    "#Mean value imputation, feature scaling, gettin gdummy variables\n",
    "num_pipeline=Pipeline([\n",
    "    ('selector',DataFrameSelector(num_features)),\n",
    "    ('imputer',SimpleImputer(strategy='median')),\n",
    "    ('std_scaler',StandardScaler())\n",
    "])\n",
    "\n",
    "cat_pipeline=Pipeline([\n",
    "    ('selector',DataFrameSelector(cat_featues)),\n",
    "    ('get_dummies',GetDummies())\n",
    "])\n",
    "\n",
    "#Combining numerical and categorica data\n",
    "data_cleaning_pipeline=FeatureUnion(transformer_list=[\n",
    "    ('num_pipeline',num_pipeline),\n",
    "    ('cat_pipeline',cat_pipeline),  \n",
    "])\n",
    "\n",
    "\n",
    "housing_data=data_cleaning_pipeline.fit_transform(housing_data)\n",
    "l=num_features.copy()\n",
    "l.extend([0,1,2])\n",
    "housing_data=pd.DataFrame(housing_data,columns=l)\n",
    "\n",
    "#Check for multicoliniearity\n",
    "remove_by_vif(housing_data)\n",
    "remove_by_pvalue(housing_data,data_labels)\n",
    "\n",
    "data_prepared=housing_data\n",
    "y_train=data_labels.copy()\n",
    "\n",
    "label_scaler=StandardScaler()\n",
    "data_labels=label_scaler.fit_transform(y_train.values.reshape(-1,1))"
   ]
  },
  {
   "cell_type": "code",
   "execution_count": 15,
   "id": "cf283b16",
   "metadata": {},
   "outputs": [
    {
     "name": "stdout",
     "output_type": "stream",
     "text": [
      "<class 'pandas.core.frame.DataFrame'>\n",
      "RangeIndex: 17987 entries, 0 to 17986\n",
      "Data columns (total 9 columns):\n",
      " #   Column                    Non-Null Count  Dtype  \n",
      "---  ------                    --------------  -----  \n",
      " 0   longitude                 17987 non-null  float64\n",
      " 1   housing_median_age        17987 non-null  float64\n",
      " 2   population                17987 non-null  float64\n",
      " 3   median_income             17987 non-null  float64\n",
      " 4   rooms_per_household       17987 non-null  float64\n",
      " 5   population_per_household  17987 non-null  float64\n",
      " 6   0                         17987 non-null  float64\n",
      " 7   1                         17987 non-null  float64\n",
      " 8   2                         17987 non-null  float64\n",
      "dtypes: float64(9)\n",
      "memory usage: 1.2 MB\n"
     ]
    },
    {
     "data": {
      "text/html": [
       "<div>\n",
       "<style scoped>\n",
       "    .dataframe tbody tr th:only-of-type {\n",
       "        vertical-align: middle;\n",
       "    }\n",
       "\n",
       "    .dataframe tbody tr th {\n",
       "        vertical-align: top;\n",
       "    }\n",
       "\n",
       "    .dataframe thead th {\n",
       "        text-align: right;\n",
       "    }\n",
       "</style>\n",
       "<table border=\"1\" class=\"dataframe\">\n",
       "  <thead>\n",
       "    <tr style=\"text-align: right;\">\n",
       "      <th></th>\n",
       "      <th>longitude</th>\n",
       "      <th>housing_median_age</th>\n",
       "      <th>population</th>\n",
       "      <th>median_income</th>\n",
       "      <th>rooms_per_household</th>\n",
       "      <th>population_per_household</th>\n",
       "      <th>0</th>\n",
       "      <th>1</th>\n",
       "      <th>2</th>\n",
       "    </tr>\n",
       "  </thead>\n",
       "  <tbody>\n",
       "    <tr>\n",
       "      <th>0</th>\n",
       "      <td>-1.324052</td>\n",
       "      <td>0.989411</td>\n",
       "      <td>-1.642152</td>\n",
       "      <td>2.193690</td>\n",
       "      <td>1.238275</td>\n",
       "      <td>-0.435349</td>\n",
       "      <td>0.0</td>\n",
       "      <td>1.0</td>\n",
       "      <td>0.0</td>\n",
       "    </tr>\n",
       "    <tr>\n",
       "      <th>1</th>\n",
       "      <td>-1.319066</td>\n",
       "      <td>-0.610342</td>\n",
       "      <td>1.133259</td>\n",
       "      <td>2.185460</td>\n",
       "      <td>0.780698</td>\n",
       "      <td>-1.176658</td>\n",
       "      <td>0.0</td>\n",
       "      <td>1.0</td>\n",
       "      <td>0.0</td>\n",
       "    </tr>\n",
       "    <tr>\n",
       "      <th>2</th>\n",
       "      <td>-1.334022</td>\n",
       "      <td>1.869275</td>\n",
       "      <td>-1.026070</td>\n",
       "      <td>0.169138</td>\n",
       "      <td>0.809110</td>\n",
       "      <td>-1.050630</td>\n",
       "      <td>0.0</td>\n",
       "      <td>1.0</td>\n",
       "      <td>0.0</td>\n",
       "    </tr>\n",
       "    <tr>\n",
       "      <th>3</th>\n",
       "      <td>-1.334022</td>\n",
       "      <td>1.869275</td>\n",
       "      <td>-1.382279</td>\n",
       "      <td>0.283421</td>\n",
       "      <td>-0.329515</td>\n",
       "      <td>-1.123426</td>\n",
       "      <td>0.0</td>\n",
       "      <td>1.0</td>\n",
       "      <td>0.0</td>\n",
       "    </tr>\n",
       "    <tr>\n",
       "      <th>4</th>\n",
       "      <td>-1.334022</td>\n",
       "      <td>1.869275</td>\n",
       "      <td>-0.155231</td>\n",
       "      <td>0.053214</td>\n",
       "      <td>-0.183932</td>\n",
       "      <td>-1.143719</td>\n",
       "      <td>0.0</td>\n",
       "      <td>1.0</td>\n",
       "      <td>0.0</td>\n",
       "    </tr>\n",
       "    <tr>\n",
       "      <th>...</th>\n",
       "      <td>...</td>\n",
       "      <td>...</td>\n",
       "      <td>...</td>\n",
       "      <td>...</td>\n",
       "      <td>...</td>\n",
       "      <td>...</td>\n",
       "      <td>...</td>\n",
       "      <td>...</td>\n",
       "      <td>...</td>\n",
       "    </tr>\n",
       "    <tr>\n",
       "      <th>17982</th>\n",
       "      <td>-0.755722</td>\n",
       "      <td>-0.290392</td>\n",
       "      <td>-0.516337</td>\n",
       "      <td>-1.608358</td>\n",
       "      <td>-0.089779</td>\n",
       "      <td>-0.427492</td>\n",
       "      <td>1.0</td>\n",
       "      <td>0.0</td>\n",
       "      <td>0.0</td>\n",
       "    </tr>\n",
       "    <tr>\n",
       "      <th>17983</th>\n",
       "      <td>-0.815546</td>\n",
       "      <td>-0.850305</td>\n",
       "      <td>-1.539690</td>\n",
       "      <td>-0.720911</td>\n",
       "      <td>0.698858</td>\n",
       "      <td>0.383908</td>\n",
       "      <td>1.0</td>\n",
       "      <td>0.0</td>\n",
       "      <td>0.0</td>\n",
       "    </tr>\n",
       "    <tr>\n",
       "      <th>17984</th>\n",
       "      <td>-0.820531</td>\n",
       "      <td>-0.930293</td>\n",
       "      <td>-0.274165</td>\n",
       "      <td>-1.469543</td>\n",
       "      <td>0.039194</td>\n",
       "      <td>-0.805344</td>\n",
       "      <td>1.0</td>\n",
       "      <td>0.0</td>\n",
       "      <td>0.0</td>\n",
       "    </tr>\n",
       "    <tr>\n",
       "      <th>17985</th>\n",
       "      <td>-0.870385</td>\n",
       "      <td>-0.850305</td>\n",
       "      <td>-0.689492</td>\n",
       "      <td>-1.310303</td>\n",
       "      <td>0.136191</td>\n",
       "      <td>-1.152919</td>\n",
       "      <td>1.0</td>\n",
       "      <td>0.0</td>\n",
       "      <td>0.0</td>\n",
       "    </tr>\n",
       "    <tr>\n",
       "      <th>17986</th>\n",
       "      <td>-0.830502</td>\n",
       "      <td>-1.010280</td>\n",
       "      <td>0.202221</td>\n",
       "      <td>-0.855746</td>\n",
       "      <td>0.077962</td>\n",
       "      <td>-0.340549</td>\n",
       "      <td>1.0</td>\n",
       "      <td>0.0</td>\n",
       "      <td>0.0</td>\n",
       "    </tr>\n",
       "  </tbody>\n",
       "</table>\n",
       "<p>17987 rows × 9 columns</p>\n",
       "</div>"
      ],
      "text/plain": [
       "       longitude  housing_median_age  population  median_income  \\\n",
       "0      -1.324052            0.989411   -1.642152       2.193690   \n",
       "1      -1.319066           -0.610342    1.133259       2.185460   \n",
       "2      -1.334022            1.869275   -1.026070       0.169138   \n",
       "3      -1.334022            1.869275   -1.382279       0.283421   \n",
       "4      -1.334022            1.869275   -0.155231       0.053214   \n",
       "...          ...                 ...         ...            ...   \n",
       "17982  -0.755722           -0.290392   -0.516337      -1.608358   \n",
       "17983  -0.815546           -0.850305   -1.539690      -0.720911   \n",
       "17984  -0.820531           -0.930293   -0.274165      -1.469543   \n",
       "17985  -0.870385           -0.850305   -0.689492      -1.310303   \n",
       "17986  -0.830502           -1.010280    0.202221      -0.855746   \n",
       "\n",
       "       rooms_per_household  population_per_household    0    1    2  \n",
       "0                 1.238275                 -0.435349  0.0  1.0  0.0  \n",
       "1                 0.780698                 -1.176658  0.0  1.0  0.0  \n",
       "2                 0.809110                 -1.050630  0.0  1.0  0.0  \n",
       "3                -0.329515                 -1.123426  0.0  1.0  0.0  \n",
       "4                -0.183932                 -1.143719  0.0  1.0  0.0  \n",
       "...                    ...                       ...  ...  ...  ...  \n",
       "17982            -0.089779                 -0.427492  1.0  0.0  0.0  \n",
       "17983             0.698858                  0.383908  1.0  0.0  0.0  \n",
       "17984             0.039194                 -0.805344  1.0  0.0  0.0  \n",
       "17985             0.136191                 -1.152919  1.0  0.0  0.0  \n",
       "17986             0.077962                 -0.340549  1.0  0.0  0.0  \n",
       "\n",
       "[17987 rows x 9 columns]"
      ]
     },
     "execution_count": 15,
     "metadata": {},
     "output_type": "execute_result"
    }
   ],
   "source": [
    "\n",
    "data_prepared.info()\n",
    "housing_data"
   ]
  },
  {
   "cell_type": "markdown",
   "id": "0acaba0e",
   "metadata": {},
   "source": [
    "## Choosing Machine Learning Algorithm"
   ]
  },
  {
   "cell_type": "code",
   "execution_count": 16,
   "id": "e993c4de",
   "metadata": {},
   "outputs": [],
   "source": [
    "from sklearn.metrics import mean_squared_error,r2_score\n",
    "from sklearn.model_selection import learning_curve,cross_val_score,validation_curve,train_test_split\n",
    "from sklearn.model_selection import GridSearchCV"
   ]
  },
  {
   "cell_type": "code",
   "execution_count": 17,
   "id": "77151b69",
   "metadata": {},
   "outputs": [],
   "source": [
    "def plot_validation_curve(scores,param_range,param_name,scoring='r2'):\n",
    "    \"\"\"This function plots validation curve.\n",
    "    \n",
    "    Parameters:\n",
    "        scores: scores obtained from validation_curve() method\n",
    "        param_range: list of range of parameters passed as 'param_range' in validation_curve() method\n",
    "        scoring: str\n",
    "    \"\"\"\n",
    "    n=len(param_range)\n",
    "    \n",
    "    if scoring=='r2':\n",
    "        train_score=[scores[0][i].mean() for i in range (0,n)]\n",
    "        test_score=[scores[1][i].mean() for i in range (0,n)]\n",
    "    elif scoring=='neg_mean_squared_error':\n",
    "        train_score=[np.sqrt(-scores[0][i].mean()) for i in range (0,n)]\n",
    "        test_score=[np.sqrt(-scores[1][i].mean()) for i in range (0,n)]\n",
    "    \n",
    "    fig=plt.figure(figsize=(8,6))\n",
    "    plt.plot(param_range,train_score,label='Train')\n",
    "    plt.plot(param_range,test_score,label='Test')\n",
    "    plt.xticks=param_range\n",
    "    plt.title(\"Validation curve of {}\".format(param_name),size=12)\n",
    "    plt.legend()"
   ]
  },
  {
   "cell_type": "markdown",
   "id": "2b1f38e6",
   "metadata": {},
   "source": [
    "### Linear Regression"
   ]
  },
  {
   "cell_type": "code",
   "execution_count": 18,
   "id": "6821dcd7",
   "metadata": {},
   "outputs": [
    {
     "name": "stdout",
     "output_type": "stream",
     "text": [
      "R2:  0.7256080717653138\n"
     ]
    }
   ],
   "source": [
    "from sklearn.linear_model import LinearRegression,Ridge\n",
    "\n",
    "lr=LinearRegression()\n",
    "scores=cross_val_score(lr,data_prepared,data_labels,n_jobs=-1,cv=5,scoring='r2')\n",
    "print('R2: ',np.sqrt(scores).mean())"
   ]
  },
  {
   "cell_type": "code",
   "execution_count": 19,
   "id": "0ea98531",
   "metadata": {},
   "outputs": [
    {
     "name": "stdout",
     "output_type": "stream",
     "text": [
      "RMSE:  74212.34807967233\n"
     ]
    }
   ],
   "source": [
    "lr=LinearRegression()\n",
    "scores=cross_val_score(lr,data_prepared,y_train,n_jobs=-1,cv=5,scoring='neg_mean_squared_error')\n",
    "print('RMSE: ',np.sqrt(-scores).mean())"
   ]
  },
  {
   "cell_type": "markdown",
   "id": "6e1ace4e",
   "metadata": {},
   "source": [
    "### Ridge Regression"
   ]
  },
  {
   "cell_type": "code",
   "execution_count": 65,
   "id": "3d3e732e",
   "metadata": {},
   "outputs": [
    {
     "name": "stdout",
     "output_type": "stream",
     "text": [
      "R2:  0.7256120011574305\n"
     ]
    }
   ],
   "source": [
    "ridge=Ridge(alpha=0.1,random_state=42)\n",
    "scores=cross_val_score(ridge,data_prepared,data_labels,n_jobs=-1,cv=5,scoring='r2')\n",
    "print('R2: ',np.sqrt(scores).mean())"
   ]
  },
  {
   "cell_type": "code",
   "execution_count": 63,
   "id": "5434c88c",
   "metadata": {},
   "outputs": [
    {
     "data": {
      "image/png": "[encoded data removed]",
      "text/plain": [
       "<Figure size 576x432 with 1 Axes>"
      ]
     },
     "metadata": {
      "needs_background": "light"
     },
     "output_type": "display_data"
    }
   ],
   "source": [
    "ridge=Ridge(random_state=42)\n",
    "param_name='alpha'\n",
    "param_range = [1,10,50,100,200,300,500,700,1000]\n",
    "#param_range=[1,10,100,800,900,1000,1200,1400,1600,1800,2000]\n",
    "scoring='r2'\n",
    "#scoring='neg_mean_squared_error'\n",
    "curve=validation_curve(ridge,data_prepared,y_train,scoring=scoring,cv=5,param_name=param_name,\n",
    "    param_range=param_range,n_jobs=-1)\n",
    "\n",
    "n=len(param_range)\n",
    "'''\n",
    "if scoring=='r2':\n",
    "    train_score=[curve[0][i].mean() for i in range (0,n)]\n",
    "    test_score=[curve[1][i].mean() for i in range (0,n)]\n",
    "elif scoring=='neg_mean_squared_error':\n",
    "    train_score=[np.sqrt(-curve[0][i].mean()) for i in range (0,n)]\n",
    "    test_score=[np.sqrt(-curve[1][i].mean()) for i in range (0,n)]\n",
    "'''\n",
    "\n",
    "plot_validation_curve(curve,param_range,param_name,scoring)"
   ]
  },
  {
   "cell_type": "markdown",
   "id": "33f79f57",
   "metadata": {},
   "source": [
    "### Support Vector Regression"
   ]
  },
  {
   "cell_type": "code",
   "execution_count": 54,
   "id": "dc64ac88",
   "metadata": {},
   "outputs": [
    {
     "name": "stdout",
     "output_type": "stream",
     "text": [
      "Fitting 3 folds for each of 4 candidates, totalling 12 fits\n"
     ]
    },
    {
     "name": "stderr",
     "output_type": "stream",
     "text": [
      "C:\\Users\\kalam\\Anaconda3\\lib\\site-packages\\sklearn\\utils\\validation.py:63: DataConversionWarning: A column-vector y was passed when a 1d array was expected. Please change the shape of y to (n_samples, ), for example using ravel().\n",
      "  return f(*args, **kwargs)\n"
     ]
    },
    {
     "data": {
      "text/plain": [
       "GridSearchCV(cv=3, estimator=SVR(degree=2), n_jobs=-1,\n",
       "             param_grid={'C': [1, 10, 50, 100]}, scoring='r2', verbose=3)"
      ]
     },
     "execution_count": 54,
     "metadata": {},
     "output_type": "execute_result"
    }
   ],
   "source": [
    "from sklearn.svm import SVR\n",
    "\n",
    "svr=SVR(degree=2)\n",
    "param_grid={\n",
    "    'C':[1,10,50,100]\n",
    "}\n",
    "scoring='r2'\n",
    "grid=GridSearchCV(svr,param_grid,scoring=scoring,n_jobs=-1,cv=3,verbose=3)\n",
    "grid.fit(data_prepared,data_labels)"
   ]
  },
  {
   "cell_type": "code",
   "execution_count": 73,
   "id": "64261a08",
   "metadata": {},
   "outputs": [
    {
     "name": "stdout",
     "output_type": "stream",
     "text": [
      "{'C': 1}\n",
      "----------------\n",
      "0.66143457838841\n"
     ]
    }
   ],
   "source": [
    "print(grid.best_params_)\n",
    "print(\"----------------\")\n",
    "print(grid.best_score_)"
   ]
  },
  {
   "cell_type": "code",
   "execution_count": 66,
   "id": "e5d0776e",
   "metadata": {},
   "outputs": [
    {
     "name": "stdout",
     "output_type": "stream",
     "text": [
      "R2:  0.7426444827884275\n",
      "RMSE:  nan\n"
     ]
    },
    {
     "name": "stderr",
     "output_type": "stream",
     "text": [
      "C:\\Users\\kalam\\AppData\\Local\\Temp/ipykernel_8656/2908330282.py:4: RuntimeWarning: invalid value encountered in sqrt\n",
      "  print('RMSE: ',np.sqrt(-scores).mean())\n"
     ]
    }
   ],
   "source": [
    "svr=SVR(kernel='rbf',C=100)\n",
    "scores=cross_val_score(svr,data_prepared,data_labels,n_jobs=-1,cv=5,scoring='r2')\n",
    "print('R2: ',np.sqrt(scores).mean())\n",
    "print('RMSE: ',np.sqrt(-scores).mean())"
   ]
  },
  {
   "cell_type": "markdown",
   "id": "25c65861",
   "metadata": {},
   "source": [
    "### Decision Tress"
   ]
  },
  {
   "cell_type": "code",
   "execution_count": 20,
   "id": "932ca2d1",
   "metadata": {},
   "outputs": [
    {
     "name": "stdout",
     "output_type": "stream",
     "text": [
      "R2:  0.5889188779090204\n"
     ]
    }
   ],
   "source": [
    "from sklearn.tree import DecisionTreeRegressor\n",
    "\n",
    "dtr=DecisionTreeRegressor(random_state=42)\n",
    "scores=cross_val_score(dtr,data_prepared,y_train,n_jobs=-1,cv=5,scoring='r2')\n",
    "print('R2: ',np.sqrt(scores).mean())"
   ]
  },
  {
   "cell_type": "markdown",
   "id": "d941bf8c",
   "metadata": {},
   "source": [
    "#### Max Depth"
   ]
  },
  {
   "cell_type": "code",
   "execution_count": 21,
   "id": "834f9f6e",
   "metadata": {},
   "outputs": [
    {
     "data": {
      "image/png": "[encoded data removed]",
      "text/plain": [
       "<Figure size 576x432 with 1 Axes>"
      ]
     },
     "metadata": {
      "needs_background": "light"
     },
     "output_type": "display_data"
    }
   ],
   "source": [
    "dtr=DecisionTreeRegressor(random_state=42)\n",
    "param_name='max_depth'\n",
    "param_range = range(2,21,2)\n",
    "scoring='neg_mean_squared_error'\n",
    "curve=validation_curve(dtr,data_prepared,y_train,scoring=scoring,cv=5,param_name=param_name,\n",
    "    param_range=param_range,n_jobs=-1)\n",
    "\n",
    "plot_validation_curve(curve,param_range,param_name,scoring)"
   ]
  },
  {
   "cell_type": "markdown",
   "id": "71a28b64",
   "metadata": {},
   "source": [
    "#### Max Features"
   ]
  },
  {
   "cell_type": "code",
   "execution_count": 22,
   "id": "26a737d0",
   "metadata": {},
   "outputs": [
    {
     "data": {
      "image/png": "[encoded data removed]",
      "text/plain": [
       "<Figure size 576x432 with 1 Axes>"
      ]
     },
     "metadata": {
      "needs_background": "light"
     },
     "output_type": "display_data"
    }
   ],
   "source": [
    "dtr=DecisionTreeRegressor(max_depth=4,random_state=42)\n",
    "param_name='max_features'\n",
    "param_range = range(2,10)\n",
    "scoring='neg_mean_squared_error'\n",
    "curve=validation_curve(dtr,data_prepared,y_train,scoring=scoring,cv=5,param_name=param_name,\n",
    "    param_range=param_range,n_jobs=-1)\n",
    "plot_validation_curve(curve,param_range,param_name,scoring)"
   ]
  },
  {
   "cell_type": "code",
   "execution_count": 24,
   "id": "6967e68f",
   "metadata": {},
   "outputs": [
    {
     "name": "stdout",
     "output_type": "stream",
     "text": [
      "Fitting 3 folds for each of 108 candidates, totalling 324 fits\n",
      "{'max_depth': 5, 'max_features': 6, 'min_samples_split': 200, 'n_estimators': 100}\n"
     ]
    }
   ],
   "source": [
    "from sklearn.ensemble import GradientBoostingRegressor\n",
    "\n",
    "gbr=GradientBoostingRegressor(random_state=42)\n",
    "param_grid={\n",
    "    'n_estimators':[100,500,1000],\n",
    "    'max_depth':range(3,9,1),\n",
    "    'max_features':[6,7,9],\n",
    "    'min_samples_split':[200,400]  \n",
    "}\n",
    "scoring='r2'\n",
    "grid=GridSearchCV(gbr,param_grid,scoring=scoring,n_jobs=-1,cv=3,verbose=1)\n",
    "grid.fit(data_prepared,y_train)\n",
    "print(grid.best_params_)"
   ]
  },
  {
   "cell_type": "code",
   "execution_count": 25,
   "id": "4e274c78",
   "metadata": {},
   "outputs": [],
   "source": [
    "## To be added"
   ]
  },
  {
   "cell_type": "code",
   "execution_count": 27,
   "id": "06cc7262",
   "metadata": {},
   "outputs": [
    {
     "name": "stdout",
     "output_type": "stream",
     "text": [
      "R2:  0.8202485673130188\n"
     ]
    }
   ],
   "source": [
    "gbr=GradientBoostingRegressor(max_depth = 5, max_features=6, min_samples_split=200, n_estimators=100,random_state=42)\n",
    "scores=cross_val_score(gbr,data_prepared,y_train,n_jobs=-1,cv=5,scoring='r2')\n",
    "print('R2: ',np.sqrt(scores).mean())"
   ]
  },
  {
   "cell_type": "code",
   "execution_count": 33,
   "id": "bfb1647e",
   "metadata": {},
   "outputs": [
    {
     "data": {
      "text/plain": [
       "<matplotlib.legend.Legend at 0x22007fc1970>"
      ]
     },
     "execution_count": 33,
     "metadata": {},
     "output_type": "execute_result"
    },
    {
     "data": {
      "image/png": "[encoded data removed]",
      "text/plain": [
       "<Figure size 864x576 with 1 Axes>"
      ]
     },
     "metadata": {
      "needs_background": "light"
     },
     "output_type": "display_data"
    }
   ],
   "source": [
    "gbr=GradientBoostingRegressor(max_depth= 5, max_features=6, min_samples_split=200, n_estimators=100,random_state=42)\n",
    "lc=learning_curve(gbr,data_prepared,y_train,cv=5,n_jobs=-1)\n",
    "size=lc[0]\n",
    "train_score=[lc[1][i].mean() for i in range (0,5)]\n",
    "test_score=[lc[2][i].mean() for i in range (0,5)]\n",
    "fig=plt.figure(figsize=(12,8))\n",
    "plt.plot(size,train_score,label='Train')\n",
    "plt.plot(size,test_score,label=\"Test\")\n",
    "plt.legend()\n",
    "\n"
   ]
  },
  {
   "cell_type": "code",
   "execution_count": 34,
   "id": "2abb1f8a",
   "metadata": {},
   "outputs": [
    {
     "name": "stdout",
     "output_type": "stream",
     "text": [
      "R2:  0.8355689604945423\n"
     ]
    }
   ],
   "source": [
    "scores=cross_val_score(gbr,data_prepared,y_train,n_jobs=-1,cv=3,scoring='r2')\n",
    "print('R2: ',np.sqrt(scores).mean())"
   ]
  },
  {
   "cell_type": "code",
   "execution_count": 35,
   "id": "7eb14ca8",
   "metadata": {},
   "outputs": [
    {
     "name": "stdout",
     "output_type": "stream",
     "text": [
      "RMSE:  nan\n"
     ]
    },
    {
     "name": "stderr",
     "output_type": "stream",
     "text": [
      "C:\\Users\\kalam\\AppData\\Local\\Temp/ipykernel_42884/2674860680.py:1: RuntimeWarning: invalid value encountered in sqrt\n",
      "  print('RMSE: ',np.sqrt(-scores).mean())\n"
     ]
    }
   ],
   "source": [
    "print('RMSE: ',np.sqrt(-scores).mean())"
   ]
  },
  {
   "cell_type": "code",
   "execution_count": null,
   "id": "b820a0dc",
   "metadata": {},
   "outputs": [],
   "source": []
  }
 ],
 "metadata": {
  "kernelspec": {
   "display_name": "Python 3 (ipykernel)",
   "language": "python",
   "name": "python3"
  },
  "language_info": {
   "codemirror_mode": {
    "name": "ipython",
    "version": 3
   },
   "file_extension": ".py",
   "mimetype": "text/x-python",
   "name": "python",
   "nbconvert_exporter": "python",
   "pygments_lexer": "ipython3",
   "version": "3.9.7"
  }
 },
 "nbformat": 4,
 "nbformat_minor": 5
}
